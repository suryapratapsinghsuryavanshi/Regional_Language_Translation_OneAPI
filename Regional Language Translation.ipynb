{
 "cells": [
  {
   "cell_type": "code",
   "execution_count": null,
   "id": "007e50ac",
   "metadata": {},
   "outputs": [],
   "source": [
    "import numpy as np\n",
    "import pandas as pd\n",
    "from sklearn.feature_extraction.text import CountVectorizer, TfidfVectorizer\n",
    "from sklearn.model_selection import train_test_split\n",
    "from tensorflow.keras.layers import Embedding, LSTM, Dense\n",
    "from tensorflow.keras.models import Sequential\n",
    "from tensorflow.keras.optimizers import Adam\n",
    "from tensorflow.keras.callbacks import EarlyStopping\n",
    "import dpcpp"
   ]
  },
  {
   "cell_type": "code",
   "execution_count": null,
   "id": "581e3daa",
   "metadata": {},
   "outputs": [],
   "source": [
    "# Collect and preprocess the data\n",
    "data = pd.read_csv('regional_language_data.csv')\n",
    "data['text'] = data['text'].str.lower()\n",
    "data['text'] = data['text'].str.replace('\\d+', '')\n",
    "data['text'] = data['text'].str.replace('[^\\w\\s]', '')\n",
    "data['text'] = data['text'].str.replace('\\n', '')\n",
    "data['text'] = data['text'].str.strip()"
   ]
  },
  {
   "cell_type": "code",
   "execution_count": null,
   "id": "d91c32fa",
   "metadata": {},
   "outputs": [],
   "source": [
    "# Prepare the data for training\n",
    "X = data['text']\n",
    "y = data['language']\n",
    "cv = CountVectorizer()\n",
    "X = cv.fit_transform(X)\n",
    "tfidf = TfidfVectorizer()\n",
    "X = tfidf.fit_transform(X)\n",
    "X_train, X_test, y_train, y_test = train_test_split(X, y, test_size=0.2, random_state=42)"
   ]
  },
  {
   "cell_type": "code",
   "execution_count": null,
   "id": "90f2002a",
   "metadata": {},
   "outputs": [],
   "source": [
    "# Train the NLP and Neural Network models\n",
    "vocab_size = len(cv.vocabulary_)\n",
    "embedding_dim = 32\n",
    "max_length = 50\n",
    "model = Sequential()\n",
    "model.add(Embedding(vocab_size, embedding_dim, input_length=max_length))\n",
    "model.add(LSTM(32))\n",
    "model.add(Dense(1, activation='sigmoid'))\n",
    "model.compile(loss='binary_crossentropy', optimizer=Adam(learning_rate=0.001), metrics=['accuracy'])\n",
    "es = EarlyStopping(monitor='val_loss', mode='min', verbose=1, patience=3)\n",
    "model.fit(X_train, y_train, validation_data=(X_test, y_test), epochs=10, batch_size=32, callbacks=[es])"
   ]
  },
  {
   "cell_type": "code",
   "execution_count": null,
   "id": "7b481972",
   "metadata": {},
   "outputs": [],
   "source": [
    "# Optimize performance using DPC++\n",
    "X_train_dpcpp = dpcpp.array(X_train)\n",
    "X_test_dpcpp = dpcpp.array(X_test)\n",
    "y_train_dpcpp = dpcpp.array(y_train)\n",
    "y_test_dpcpp = dpcpp.array(y_test)\n",
    "model_dpcpp = Sequential()\n",
    "model_dpcpp.add(Embedding(vocab_size, embedding_dim, input_length=max_length))\n",
    "model_dpcpp.add(LSTM(32))\n",
    "model_dpcpp.add(Dense(1, activation='sigmoid'))\n",
    "model_dpcpp.compile(loss='binary_crossentropy', optimizer=Adam(learning_rate=0.001), metrics=['accuracy'])\n",
    "model_dpcpp.fit(X_train_dpcpp, y_train_dpcpp, validation_data=(X_test_dpcpp, y_test_dpcpp), epochs=10, batch_size=32)"
   ]
  },
  {
   "cell_type": "code",
   "execution_count": null,
   "id": "66f499f7",
   "metadata": {},
   "outputs": [],
   "source": [
    "# Build the translation model\n",
    "def translate(text, model):\n",
    "    # Convert text to numerical vector\n",
    "    text = cv.transform([text])\n",
    "    text = tfidf.transform(text)\n",
    "    # Make prediction using the model\n",
    "    prediction = model.predict(text)\n",
    "    return prediction"
   ]
  },
  {
   "cell_type": "code",
   "execution_count": null,
   "id": "94c7aab5",
   "metadata": {},
   "outputs": [],
   "source": [
    "# Test the model\n",
    "text = 'नमस्ते'\n",
    "prediction = translate(text, model_dpcpp)\n",
    "print(prediction)"
   ]
  },
  {
   "cell_type": "code",
   "execution_count": null,
   "id": "4d50975c",
   "metadata": {},
   "outputs": [],
   "source": []
  }
 ],
 "metadata": {
  "kernelspec": {
   "display_name": "Python 3 (ipykernel)",
   "language": "python",
   "name": "python3"
  },
  "language_info": {
   "codemirror_mode": {
    "name": "ipython",
    "version": 3
   },
   "file_extension": ".py",
   "mimetype": "text/x-python",
   "name": "python",
   "nbconvert_exporter": "python",
   "pygments_lexer": "ipython3",
   "version": "3.10.5"
  }
 },
 "nbformat": 4,
 "nbformat_minor": 5
}
